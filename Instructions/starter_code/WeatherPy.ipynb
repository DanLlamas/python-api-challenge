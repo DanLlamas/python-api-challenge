{
 "cells": [
  {
   "cell_type": "markdown",
   "metadata": {},
   "source": [
    "# WeatherPy\n",
    "----\n",
    "\n",
    "#### Note\n",
    "* Instructions have been included for each segment. You do not have to follow them exactly, but they are included to help you think through the steps."
   ]
  },
  {
   "cell_type": "code",
   "execution_count": 1,
   "metadata": {},
   "outputs": [
    {
     "name": "stdout",
     "output_type": "stream",
     "text": [
      "Requirement already satisfied: citipy in /Users/DanLlamas/opt/anaconda3/lib/python3.7/site-packages (0.0.5)\r\n",
      "Requirement already satisfied: kdtree>=0.12 in /Users/DanLlamas/opt/anaconda3/lib/python3.7/site-packages (from citipy) (0.16)\r\n"
     ]
    }
   ],
   "source": [
    "!pip install citipy"
   ]
  },
  {
   "cell_type": "code",
   "execution_count": 2,
   "metadata": {
    "scrolled": true
   },
   "outputs": [],
   "source": [
    "# Dependencies and Setup\n",
    "import matplotlib.pyplot as plt\n",
    "import pandas as pd\n",
    "import numpy as np\n",
    "import requests\n",
    "import time\n",
    "from scipy.stats import linregress\n",
    "\n",
    "# Import API key\n",
    "from api_keys import weather_api_key\n",
    "\n",
    "# Incorporated citipy to determine city based on latitude and longitude\n",
    "from citipy import citipy\n",
    "\n",
    "# Output File (CSV)\n",
    "output_data_file = \"output_data/cities.csv\"\n",
    "\n",
    "# Range of latitudes and longitudes\n",
    "lat_range = (-90, 90)\n",
    "lng_range = (-180, 180)"
   ]
  },
  {
   "cell_type": "code",
   "execution_count": 3,
   "metadata": {},
   "outputs": [
    {
     "data": {
      "text/plain": [
       "'63bff54b7a2aa1a0651f8a70d90aa572'"
      ]
     },
     "execution_count": 3,
     "metadata": {},
     "output_type": "execute_result"
    }
   ],
   "source": [
    "weather_api_key"
   ]
  },
  {
   "cell_type": "markdown",
   "metadata": {},
   "source": [
    "## Generate Cities List"
   ]
  },
  {
   "cell_type": "code",
   "execution_count": 4,
   "metadata": {},
   "outputs": [
    {
     "data": {
      "text/plain": [
       "597"
      ]
     },
     "execution_count": 4,
     "metadata": {},
     "output_type": "execute_result"
    }
   ],
   "source": [
    "# List for holding lat_lngs and cities\n",
    "lat_lngs = []\n",
    "cities = []\n",
    "\n",
    "# Create a set of random lat and lng combinations\n",
    "lats = np.random.uniform(low=-90.000, high=90.000, size=1500)\n",
    "lngs = np.random.uniform(low=-180.000, high=180.000, size=1500)\n",
    "lat_lngs = zip(lats, lngs)\n",
    "\n",
    "# Identify nearest city for each lat, lng combination\n",
    "for lat_lng in lat_lngs:\n",
    "    city = citipy.nearest_city(lat_lng[0], lat_lng[1]).city_name\n",
    "    \n",
    "    # If the city is unique, then add it to a our cities list\n",
    "    if city not in cities:\n",
    "        cities.append(city)\n",
    "\n",
    "# Print the city count to confirm sufficient count\n",
    "len(cities)"
   ]
  },
  {
   "cell_type": "markdown",
   "metadata": {},
   "source": [
    "### Perform API Calls\n",
    "* Perform a weather check on each city using a series of successive API calls.\n",
    "* Include a print log of each city as it'sbeing processed (with the city number and city name).\n"
   ]
  },
  {
   "cell_type": "code",
   "execution_count": 5,
   "metadata": {
    "scrolled": true
   },
   "outputs": [
    {
     "name": "stdout",
     "output_type": "stream",
     "text": [
      "{\n",
      "    \"coord\": {\n",
      "        \"lon\": 80.55,\n",
      "        \"lat\": 73.51\n",
      "    },\n",
      "    \"weather\": [\n",
      "        {\n",
      "            \"id\": 803,\n",
      "            \"main\": \"Clouds\",\n",
      "            \"description\": \"broken clouds\",\n",
      "            \"icon\": \"04d\"\n",
      "        }\n",
      "    ],\n",
      "    \"base\": \"stations\",\n",
      "    \"main\": {\n",
      "        \"temp\": 4.1,\n",
      "        \"feels_like\": -13.27,\n",
      "        \"temp_min\": 4.1,\n",
      "        \"temp_max\": 4.1,\n",
      "        \"pressure\": 1026,\n",
      "        \"humidity\": 93,\n",
      "        \"sea_level\": 1026,\n",
      "        \"grnd_level\": 1020\n",
      "    },\n",
      "    \"visibility\": 10000,\n",
      "    \"wind\": {\n",
      "        \"speed\": 19.86,\n",
      "        \"deg\": 184\n",
      "    },\n",
      "    \"clouds\": {\n",
      "        \"all\": 59\n",
      "    },\n",
      "    \"dt\": 1603873297,\n",
      "    \"sys\": {\n",
      "        \"country\": \"RU\",\n",
      "        \"sunrise\": 1603855933,\n",
      "        \"sunset\": 1603876243\n",
      "    },\n",
      "    \"timezone\": 25200,\n",
      "    \"id\": 1507390,\n",
      "    \"name\": \"Dikson\",\n",
      "    \"cod\": 200\n",
      "}\n"
     ]
    }
   ],
   "source": [
    "import json\n",
    "\n",
    "url = \"http://api.openweathermap.org/data/2.5/weather?\"\n",
    "units = \"imperial\"\n",
    "query_url = f\"{url}appid={weather_api_key}&units={units}&q=\"\n",
    "\n",
    "weather_response = requests.get(query_url + city)\n",
    "weather_json = weather_response.json()\n",
    "print(json.dumps(weather_json, indent=4))"
   ]
  },
  {
   "cell_type": "code",
   "execution_count": 6,
   "metadata": {
    "scrolled": true
   },
   "outputs": [
    {
     "name": "stdout",
     "output_type": "stream",
     "text": [
      "{\n",
      "    \"coord\": {\n",
      "        \"lon\": 80.55,\n",
      "        \"lat\": 73.51\n",
      "    },\n",
      "    \"weather\": [\n",
      "        {\n",
      "            \"id\": 803,\n",
      "            \"main\": \"Clouds\",\n",
      "            \"description\": \"broken clouds\",\n",
      "            \"icon\": \"04d\"\n",
      "        }\n",
      "    ],\n",
      "    \"base\": \"stations\",\n",
      "    \"main\": {\n",
      "        \"temp\": 4.1,\n",
      "        \"feels_like\": -13.27,\n",
      "        \"temp_min\": 4.1,\n",
      "        \"temp_max\": 4.1,\n",
      "        \"pressure\": 1026,\n",
      "        \"humidity\": 93,\n",
      "        \"sea_level\": 1026,\n",
      "        \"grnd_level\": 1020\n",
      "    },\n",
      "    \"visibility\": 10000,\n",
      "    \"wind\": {\n",
      "        \"speed\": 19.86,\n",
      "        \"deg\": 184\n",
      "    },\n",
      "    \"clouds\": {\n",
      "        \"all\": 59\n",
      "    },\n",
      "    \"dt\": 1603873297,\n",
      "    \"sys\": {\n",
      "        \"country\": \"RU\",\n",
      "        \"sunrise\": 1603855933,\n",
      "        \"sunset\": 1603876243\n",
      "    },\n",
      "    \"timezone\": 25200,\n",
      "    \"id\": 1507390,\n",
      "    \"name\": \"Dikson\",\n",
      "    \"cod\": 200\n",
      "}\n"
     ]
    }
   ],
   "source": [
    "weather_response = requests.get(query_url + city)\n",
    "weather_json = weather_response.json()\n",
    "print(json.dumps(weather_json, indent=4))"
   ]
  },
  {
   "cell_type": "code",
   "execution_count": 7,
   "metadata": {},
   "outputs": [
    {
     "name": "stdout",
     "output_type": "stream",
     "text": [
      "Beginning Data Retrieval\n",
      "-------------------------------\n",
      "Processing Record 1 | Saint George\n",
      "Processing Record 1 | Ampanihy\n",
      "City not found. Skipping...\n",
      "Processing Record 1 | Kaitangata\n",
      "Processing Record 1 | Nanortalik\n",
      "Processing Record 1 | Jamestown\n",
      "Processing Record 1 | Oistins\n",
      "Processing Record 1 | Merke\n",
      "Processing Record 1 | Kutum\n",
      "Processing Record 1 | San Juan\n",
      "Processing Record 1 | Dikson\n",
      "Processing Record 1 | Ushuaia\n",
      "Processing Record 1 | Lebu\n",
      "Processing Record 1 | Saskylakh\n",
      "Processing Record 1 | Hong Kong\n",
      "Processing Record 1 | Ponta do Sol\n",
      "Processing Record 1 | Kożuchów\n",
      "City not found. Skipping...\n",
      "Processing Record 1 | Los Llanos de Aridane\n",
      "Processing Record 1 | Punta Arenas\n",
      "Processing Record 1 | Bambous Virieux\n",
      "Processing Record 1 | Escárcega\n",
      "Processing Record 1 | Aras\n",
      "City not found. Skipping...\n",
      "Processing Record 1 | Villafranca de los Barros\n",
      "City not found. Skipping...\n",
      "Processing Record 1 | Kanniyākumāri\n",
      "City not found. Skipping...\n",
      "City not found. Skipping...\n",
      "Processing Record 1 | Busselton\n",
      "Processing Record 1 | Rikitea\n",
      "Processing Record 1 | Atuona\n",
      "Processing Record 1 | Kruisfontein\n",
      "Processing Record 1 | Cape Town\n",
      "Processing Record 1 | Port Alfred\n",
      "Processing Record 1 | Lerwick\n",
      "Processing Record 1 | Lavrentiya\n",
      "Processing Record 1 | Vila Velha\n",
      "Processing Record 1 | Mataura\n",
      "Processing Record 1 | Puerto Ayora\n",
      "Processing Record 1 | Paamiut\n",
      "Processing Record 1 | Hithadhoo\n",
      "Processing Record 1 | Korla\n",
      "Processing Record 1 | Ribeira Grande\n",
      "Processing Record 1 | Cockburn Town\n",
      "Processing Record 1 | Rocha\n",
      "Processing Record 1 | Morondava\n",
      "Processing Record 1 | Zeya\n",
      "Processing Record 1 | Jalu\n",
      "Processing Record 1 | Karema\n",
      "City not found. Skipping...\n",
      "Processing Record 1 | Kisaran\n",
      "Processing Record 1 | Saint-Augustin\n",
      "Processing Record 1 | Flinders\n",
      "Processing Record 1 | Khani\n",
      "City not found. Skipping...\n",
      "Processing Record 1 | Dunedin\n",
      "Processing Record 1 | Albany\n",
      "Processing Record 1 | Morón\n",
      "Processing Record 1 | Port-Gentil\n",
      "Processing Record 1 | Hermanus\n",
      "Processing Record 1 | New Norfolk\n",
      "Processing Record 1 | Wiltz\n",
      "Processing Record 1 | Castro\n",
      "Processing Record 1 | Hilo\n",
      "Processing Record 1 | Iralaya\n",
      "Processing Record 1 | Saint Paul Harbor\n",
      "Processing Record 1 | Mackay\n",
      "Processing Record 1 | Qaanaaq\n",
      "Processing Record 1 | Kapaa\n",
      "Processing Record 1 | Havelock\n",
      "Processing Record 1 | Bethel\n",
      "Processing Record 1 | Kirovskiy\n",
      "Processing Record 1 | Yellowknife\n",
      "Processing Record 1 | Jumla\n",
      "Processing Record 1 | Gairo\n",
      "Processing Record 1 | Nikolskoye\n",
      "Processing Record 1 | Carutapera\n",
      "Processing Record 1 | Maraã\n",
      "Processing Record 1 | Half Moon Bay\n",
      "City not found. Skipping...\n",
      "Processing Record 1 | Bluff\n",
      "Processing Record 1 | Maragogi\n",
      "Processing Record 1 | Tuktoyaktuk\n",
      "Processing Record 1 | Kolosovka\n",
      "Processing Record 1 | Conceição do Coité\n",
      "Processing Record 1 | Salinópolis\n",
      "Processing Record 1 | Sitka\n",
      "Processing Record 1 | Pochutla\n",
      "Processing Record 1 | Anadyr\n",
      "Processing Record 1 | Oddur\n",
      "Processing Record 1 | Carnarvon\n",
      "City not found. Skipping...\n",
      "City not found. Skipping...\n",
      "Processing Record 1 | Asunción\n",
      "Processing Record 1 | Teófilo Otoni\n",
      "Processing Record 1 | Narsaq\n",
      "Processing Record 1 | Bengkulu\n",
      "Processing Record 1 | Worland\n",
      "Processing Record 1 | East London\n",
      "Processing Record 1 | Ciudad Juárez\n",
      "Processing Record 1 | Cuyo\n",
      "Processing Record 1 | Khatanga\n",
      "Processing Record 1 | Tasiilaq\n",
      "Processing Record 1 | Puerto Colombia\n",
      "Processing Record 1 | Mago\n",
      "Processing Record 1 | Tommot\n",
      "Processing Record 1 | Effium\n",
      "Processing Record 1 | Marovoay\n",
      "Processing Record 1 | Manokwari\n",
      "Processing Record 1 | Tutóia\n",
      "Processing Record 1 | Guhāgar\n",
      "Processing Record 1 | Lago da Pedra\n",
      "Processing Record 1 | Camacupa\n",
      "City not found. Skipping...\n",
      "Processing Record 1 | Fukuechō\n",
      "Processing Record 1 | Hobart\n",
      "Processing Record 1 | Deputatsky\n",
      "Processing Record 1 | Sipe Sipe\n",
      "Processing Record 1 | Longyearbyen\n",
      "Processing Record 1 | Zhuhai\n",
      "Processing Record 1 | Mar del Plata\n",
      "Processing Record 1 | Gushikawa\n",
      "Processing Record 1 | Bonavista\n",
      "Processing Record 1 | Avarua\n",
      "City not found. Skipping...\n",
      "Processing Record 1 | São José da Coroa Grande\n",
      "Processing Record 1 | Dolisie\n",
      "Processing Record 1 | Thompson\n",
      "Processing Record 1 | Alofi\n",
      "Processing Record 1 | Beloha\n",
      "Processing Record 1 | Chumphon\n",
      "Processing Record 1 | Tiksi\n",
      "Processing Record 1 | Mossamedes\n",
      "City not found. Skipping...\n",
      "Processing Record 1 | Mayumba\n",
      "Processing Record 1 | Saint Anthony\n",
      "Processing Record 1 | Arraial do Cabo\n",
      "Processing Record 1 | Upington\n",
      "Processing Record 1 | Ulaangom\n",
      "Processing Record 1 | Harwich\n",
      "Processing Record 1 | Siguiri\n",
      "Processing Record 1 | Husavik\n",
      "Processing Record 1 | Roald\n",
      "Processing Record 1 | Ahipara\n",
      "Processing Record 1 | Lodja\n",
      "City not found. Skipping...\n",
      "Processing Record 1 | Port Hedland\n",
      "Processing Record 1 | Mitsamiouli\n",
      "Processing Record 1 | Urusha\n",
      "Processing Record 1 | Broken Hill\n",
      "Processing Record 1 | Broome\n",
      "Processing Record 1 | Sheridan\n",
      "Processing Record 1 | Clyde River\n",
      "Processing Record 1 | Kultuk\n",
      "City not found. Skipping...\n",
      "Processing Record 1 | Bredasdorp\n",
      "Processing Record 1 | Alyangula\n",
      "Processing Record 1 | La Ronge\n",
      "Processing Record 1 | Mount Isa\n",
      "Processing Record 1 | Huarmey\n",
      "Processing Record 1 | Lékoni\n",
      "Processing Record 1 | Pangai\n",
      "Processing Record 1 | Katsuura\n",
      "Processing Record 1 | Pangnirtung\n",
      "Processing Record 1 | Hashtrūd\n",
      "Processing Record 1 | Paidha\n",
      "Processing Record 1 | Turaif\n",
      "Processing Record 1 | Le Portel\n",
      "Processing Record 1 | Atasū\n",
      "Processing Record 1 | Vilhena\n",
      "City not found. Skipping...\n",
      "City not found. Skipping...\n",
      "Processing Record 1 | Cidreira\n",
      "Processing Record 1 | Eenhana\n",
      "Processing Record 1 | Marystown\n",
      "City not found. Skipping...\n",
      "City not found. Skipping...\n",
      "Processing Record 1 | Diamantino\n",
      "Processing Record 1 | Camopi\n",
      "Processing Record 1 | Diu\n",
      "Processing Record 1 | Ukholovo\n",
      "Processing Record 1 | Chui\n",
      "Processing Record 1 | Plettenberg Bay\n",
      "Processing Record 1 | George Town\n",
      "Processing Record 1 | Tochio-honchō\n",
      "Processing Record 1 | Port Elizabeth\n",
      "Processing Record 1 | Hofn\n",
      "Processing Record 1 | Caçador\n",
      "Processing Record 1 | Umluj\n",
      "Processing Record 1 | Port Macquarie\n",
      "Processing Record 1 | Mpongwe\n",
      "Processing Record 1 | Yangi Marg`ilon\n",
      "Processing Record 1 | Anchorage\n",
      "City not found. Skipping...\n",
      "Processing Record 1 | Souillac\n",
      "Processing Record 1 | Leeton\n",
      "Processing Record 1 | Galveston\n",
      "Processing Record 1 | Hasaki\n",
      "Processing Record 1 | Bubaque\n",
      "Processing Record 1 | Airai\n",
      "Processing Record 1 | Upernavik\n",
      "Processing Record 1 | Mayo\n",
      "Processing Record 1 | Geraldton\n",
      "Processing Record 1 | Carthage\n",
      "Processing Record 1 | Atar\n",
      "Processing Record 1 | Chapais\n",
      "Processing Record 1 | Porto-Novo\n",
      "Processing Record 1 | Kingston\n",
      "Processing Record 1 | Dolzhanskaya\n",
      "Processing Record 1 | Lompoc\n",
      "Processing Record 1 | Mankono\n",
      "City not found. Skipping...\n",
      "Processing Record 1 | Devils Lake\n",
      "Processing Record 1 | Ancud\n",
      "City not found. Skipping...\n",
      "Processing Record 1 | Yulara\n",
      "Processing Record 1 | Sakakah\n",
      "City not found. Skipping...\n",
      "Processing Record 1 | Ellensburg\n",
      "Processing Record 1 | Emba\n",
      "Processing Record 1 | Ilulissat\n",
      "Processing Record 1 | Vaini\n",
      "City not found. Skipping...\n",
      "City not found. Skipping...\n",
      "Processing Record 1 | Fortuna\n",
      "Processing Record 1 | North Fort Myers\n",
      "Processing Record 1 | Vardø\n",
      "Processing Record 1 | Pointe Michel\n",
      "Processing Record 1 | Aljezur\n",
      "Processing Record 1 | Saint-Philippe\n",
      "Processing Record 1 | Honningsvåg\n",
      "Processing Record 1 | Koutiala\n",
      "Processing Record 1 | Olafsvik\n",
      "Processing Record 1 | Esperance\n",
      "Processing Record 1 | Puerto Madryn\n",
      "Processing Record 1 | Cabo San Lucas\n",
      "Processing Record 1 | Ponnāni\n",
      "Processing Record 1 | Torbay\n",
      "Processing Record 1 | Al Bardīyah\n",
      "Processing Record 1 | Faya\n",
      "Processing Record 1 | Bud\n",
      "City not found. Skipping...\n",
      "Processing Record 1 | Elverum\n",
      "Processing Record 1 | Itaituba\n",
      "Processing Record 1 | Kisangani\n",
      "Processing Record 1 | Camacha\n",
      "Processing Record 1 | Aksarka\n",
      "Processing Record 1 | Boysun\n",
      "Processing Record 1 | Pevek\n",
      "City not found. Skipping...\n",
      "Processing Record 1 | Petropavlovsk-Kamchatskiy\n",
      "Processing Record 1 | Mahébourg\n",
      "Processing Record 1 | Kaoma\n",
      "Processing Record 1 | Maués\n",
      "Processing Record 1 | Zhuanghe\n",
      "City not found. Skipping...\n",
      "Processing Record 1 | Northam\n",
      "Processing Record 1 | Dukat\n",
      "Processing Record 1 | Tautira\n",
      "Processing Record 1 | Valleyview\n",
      "Processing Record 1 | Leningradskiy\n",
      "Processing Record 1 | Nizwá\n"
     ]
    },
    {
     "name": "stdout",
     "output_type": "stream",
     "text": [
      "Processing Record 1 | Inírida\n",
      "Processing Record 1 | Anáhuac\n",
      "City not found. Skipping...\n",
      "Processing Record 1 | Peniche\n",
      "Processing Record 1 | Dingle\n",
      "Processing Record 1 | Isangel\n",
      "Processing Record 1 | Teahupoo\n",
      "Processing Record 1 | Yerbogachën\n",
      "Processing Record 1 | Namatanai\n",
      "Processing Record 1 | Vestmanna\n",
      "Processing Record 1 | Nara\n",
      "Processing Record 1 | Médéa\n",
      "Processing Record 1 | Kautokeino\n",
      "City not found. Skipping...\n",
      "Processing Record 1 | Vaitape\n",
      "Processing Record 1 | Talnakh\n",
      "Processing Record 1 | Clearwater\n",
      "Processing Record 1 | Quelimane\n",
      "Processing Record 1 | Ugoofaaru\n",
      "Processing Record 1 | Youhao\n",
      "City not found. Skipping...\n",
      "Processing Record 1 | Pisco\n",
      "City not found. Skipping...\n",
      "City not found. Skipping...\n",
      "Processing Record 1 | Klaksvík\n",
      "Processing Record 1 | Havøysund\n",
      "City not found. Skipping...\n",
      "Processing Record 1 | Khandyga\n",
      "Processing Record 1 | Nago\n",
      "Processing Record 1 | Cap Malheureux\n",
      "Processing Record 1 | Yar-Sale\n",
      "Processing Record 1 | Kars\n",
      "Processing Record 1 | Marsh Harbour\n",
      "City not found. Skipping...\n",
      "Processing Record 1 | Luena\n",
      "City not found. Skipping...\n",
      "Processing Record 1 | Butaritari\n",
      "Processing Record 1 | Ketchikan\n",
      "Processing Record 1 | Giyani\n",
      "Processing Record 1 | Provideniya\n",
      "Processing Record 1 | Muros\n",
      "Processing Record 1 | Saint-Pierre\n",
      "Processing Record 1 | Pangkalanbuun\n",
      "Processing Record 1 | Chokurdakh\n",
      "Processing Record 1 | Salalah\n",
      "Processing Record 1 | Barrow\n",
      "Processing Record 1 | Fort Nelson\n",
      "Processing Record 1 | Buala\n",
      "City not found. Skipping...\n",
      "Processing Record 1 | Caravelas\n",
      "Processing Record 1 | Buraidah\n",
      "Processing Record 1 | Voznesen'ye\n",
      "Processing Record 1 | Labuhan\n",
      "Processing Record 1 | Sisimiut\n",
      "Processing Record 1 | Mahuva\n",
      "Processing Record 1 | Natal\n",
      "City not found. Skipping...\n",
      "Processing Record 1 | Rajaori\n",
      "Processing Record 1 | Wagar\n",
      "Processing Record 1 | Pecos\n",
      "Processing Record 1 | Mgandu\n",
      "Processing Record 1 | Bafoulabé\n",
      "Processing Record 1 | Cherskiy\n",
      "Processing Record 1 | Port Augusta\n",
      "Processing Record 1 | Cabedelo\n",
      "Processing Record 1 | Sinop Province\n",
      "Processing Record 1 | Waingapu\n",
      "Processing Record 1 | Sechura\n",
      "Processing Record 1 | Ürümqi\n",
      "Processing Record 1 | Coyhaique\n",
      "Processing Record 1 | Am Timan\n",
      "Processing Record 1 | Arlit\n",
      "Processing Record 1 | Tateyama\n",
      "Processing Record 1 | Kawalu\n",
      "Processing Record 1 | High Rock\n",
      "Processing Record 1 | Puerto Escondido\n",
      "Processing Record 1 | Evensk\n",
      "Processing Record 1 | Majene\n",
      "Processing Record 1 | Meulaboh\n",
      "Processing Record 1 | Poconé\n",
      "Processing Record 1 | Palauig\n",
      "Processing Record 1 | Makakilo City\n",
      "Processing Record 1 | Sur\n",
      "Processing Record 1 | Korem\n",
      "Processing Record 1 | Nelson Bay\n",
      "Processing Record 1 | Santa Cruz del Sur\n",
      "Processing Record 1 | Magistral'nyy\n",
      "Processing Record 1 | Cherdakly\n",
      "Processing Record 1 | Marsá Maţrūḩ\n",
      "Processing Record 1 | Berlevåg\n",
      "Processing Record 1 | Auki\n",
      "Processing Record 1 | Faanui\n",
      "Processing Record 1 | Zhangaözen\n",
      "Processing Record 1 | Vicuña\n",
      "Processing Record 1 | Sabae\n",
      "Processing Record 1 | Quatre Cocos\n",
      "Processing Record 1 | Kahului\n",
      "City not found. Skipping...\n",
      "Processing Record 1 | Aklavik\n",
      "City not found. Skipping...\n",
      "Processing Record 1 | Inhambane\n",
      "Processing Record 1 | Port Blair\n",
      "City not found. Skipping...\n",
      "Processing Record 1 | Zhicheng\n",
      "Processing Record 1 | Norman Wells\n",
      "Processing Record 1 | Plaridel\n",
      "City not found. Skipping...\n",
      "Processing Record 1 | Vawkavysk\n",
      "Processing Record 1 | Taoudenni\n",
      "Processing Record 1 | Srednekolymsk\n",
      "Processing Record 1 | Yima\n",
      "Processing Record 1 | Kavieng\n",
      "Processing Record 1 | Tura\n",
      "Processing Record 1 | Malabor\n",
      "City not found. Skipping...\n",
      "Processing Record 1 | Vilcún\n",
      "Processing Record 1 | Xining\n",
      "Processing Record 1 | Chu\n",
      "Processing Record 1 | Carlyle\n",
      "Processing Record 1 | Prado\n",
      "Processing Record 1 | Pandamatenga\n",
      "Processing Record 1 | Severo-Kuril'sk\n",
      "City not found. Skipping...\n",
      "City not found. Skipping...\n",
      "Processing Record 1 | Lagoa\n",
      "City not found. Skipping...\n",
      "Processing Record 1 | Vitim\n",
      "Processing Record 1 | Mandera\n",
      "Processing Record 1 | Kumul\n",
      "Processing Record 1 | Vila Franca do Campo\n",
      "Processing Record 1 | Borogontsy\n",
      "Processing Record 1 | Nome\n",
      "Processing Record 1 | Komagane\n",
      "Processing Record 1 | Hukuntsi\n",
      "Processing Record 1 | Lorengau\n",
      "Processing Record 1 | Alice Springs\n",
      "Processing Record 1 | Praia\n",
      "Processing Record 1 | Adrar\n",
      "Processing Record 1 | Çorum Province\n",
      "Processing Record 1 | Tūkrah\n",
      "Processing Record 1 | Arkhangelsk\n",
      "Processing Record 1 | Santa Maria\n",
      "City not found. Skipping...\n",
      "Processing Record 1 | Cowra\n",
      "Processing Record 1 | Sept-Îles\n",
      "Processing Record 1 | Satka\n",
      "City not found. Skipping...\n",
      "Processing Record 1 | Tegul'det\n",
      "Processing Record 1 | Seoul\n",
      "Processing Record 1 | Alice\n",
      "City not found. Skipping...\n",
      "Processing Record 1 | Shakawe\n",
      "Processing Record 1 | Loandjili\n",
      "Processing Record 1 | Aktash\n",
      "Processing Record 1 | Sulangan\n",
      "Processing Record 1 | Nouadhibou\n",
      "Processing Record 1 | La Rioja\n",
      "Processing Record 1 | Port Lincoln\n",
      "Processing Record 1 | Vestmannaeyjar\n",
      "Processing Record 1 | Guerrero Negro\n",
      "Processing Record 1 | Tezu\n",
      "Processing Record 1 | Danielskuil\n",
      "Processing Record 1 | San Patricio\n",
      "Processing Record 1 | Lüderitz\n",
      "Processing Record 1 | Richards Bay\n",
      "Processing Record 1 | Mana\n",
      "Processing Record 1 | Bucerías\n",
      "Processing Record 1 | São João da Barra\n",
      "Processing Record 1 | Stornoway\n",
      "Processing Record 1 | Natchez\n",
      "Processing Record 1 | Mugumu\n",
      "Processing Record 1 | Vojnik\n",
      "Processing Record 1 | Antsohihy\n",
      "City not found. Skipping...\n",
      "Processing Record 1 | Kudahuvadhoo\n",
      "Processing Record 1 | Khāsh\n",
      "Processing Record 1 | Avera\n",
      "Processing Record 1 | Żurrieq\n",
      "City not found. Skipping...\n",
      "Processing Record 1 | Coquimbo\n",
      "City not found. Skipping...\n",
      "Processing Record 1 | Makkah al Mukarramah\n",
      "Processing Record 1 | Brae\n",
      "Processing Record 1 | Kropotkin\n",
      "Processing Record 1 | Nhulunbuy\n",
      "Processing Record 1 | Daru\n",
      "Processing Record 1 | Homer\n",
      "Processing Record 1 | College\n",
      "Processing Record 1 | Nakatunguru\n",
      "City not found. Skipping...\n",
      "City not found. Skipping...\n",
      "Processing Record 1 | Porto Walter\n",
      "Processing Record 1 | El Salvador\n",
      "Processing Record 1 | São João Batista\n",
      "Processing Record 1 | Kozhevnikovo\n",
      "Processing Record 1 | Ostrovnoy\n",
      "Processing Record 1 | Kidal\n",
      "Processing Record 1 | Maningrida\n",
      "Processing Record 1 | Tuatapere\n",
      "Processing Record 1 | Pitimbu\n",
      "Processing Record 1 | Wodonga\n",
      "Processing Record 1 | Goderich\n",
      "Processing Record 1 | Beringovskiy\n",
      "Processing Record 1 | Manakara\n",
      "City not found. Skipping...\n",
      "Processing Record 1 | Sinnamary\n",
      "Processing Record 1 | Coos Bay\n",
      "Processing Record 1 | Peachland\n",
      "Processing Record 1 | Ekhabi\n",
      "Processing Record 1 | Praia da Vitória\n",
      "Processing Record 1 | Missoula\n",
      "Processing Record 1 | Charters Towers\n",
      "Processing Record 1 | Mbengwi\n",
      "Processing Record 1 | Warrington\n",
      "Processing Record 1 | Voyvozh\n",
      "Processing Record 1 | Codrington\n",
      "Processing Record 1 | Koumac\n",
      "City not found. Skipping...\n",
      "Processing Record 1 | Anderson\n",
      "Processing Record 1 | Baghdad\n",
      "Processing Record 1 | Brownwood\n",
      "Processing Record 1 | Balkanabat\n",
      "Processing Record 1 | Contamana\n",
      "City not found. Skipping...\n",
      "Processing Record 1 | Copiapó\n",
      "City not found. Skipping...\n",
      "Processing Record 1 | Bellmawr\n",
      "Processing Record 1 | Boca do Acre\n",
      "Processing Record 1 | Aborlan\n",
      "Processing Record 1 | Lokoja\n",
      "Processing Record 1 | Gouyave\n",
      "Processing Record 1 | Puerto Santander\n",
      "Processing Record 1 | Hambantota\n",
      "City not found. Skipping...\n",
      "Processing Record 1 | Kondoa\n",
      "Processing Record 1 | Marco\n",
      "Processing Record 1 | Wanlaweyn\n",
      "Processing Record 1 | Santa Maria da Boa Vista\n",
      "Processing Record 1 | Rantepao\n",
      "Processing Record 1 | Demirci\n",
      "Processing Record 1 | Henties Bay\n",
      "Processing Record 1 | Kirkwall\n",
      "Processing Record 1 | Touros\n",
      "Processing Record 1 | Yining\n",
      "Processing Record 1 | Province of Trapani\n",
      "Processing Record 1 | Baykit\n",
      "Processing Record 1 | Lajedo\n",
      "Processing Record 1 | Guiratinga\n",
      "Processing Record 1 | Xinpu\n",
      "City not found. Skipping...\n",
      "Processing Record 1 | Kununurra\n",
      "Processing Record 1 | Tocopilla\n",
      "Processing Record 1 | Toma\n",
      "Processing Record 1 | Vanimo\n",
      "Processing Record 1 | Denpasar\n",
      "Processing Record 1 | Alice Town\n",
      "Processing Record 1 | Haysville\n",
      "Processing Record 1 | Biltine\n",
      "Processing Record 1 | Acaraú\n",
      "Processing Record 1 | Homa Bay\n",
      "City not found. Skipping...\n",
      "Processing Record 1 | Eureka\n",
      "Processing Record 1 | Nchelenge\n",
      "Processing Record 1 | Iqaluit\n",
      "Processing Record 1 | Acarí\n"
     ]
    },
    {
     "name": "stdout",
     "output_type": "stream",
     "text": [
      "Processing Record 1 | Bougouni\n",
      "Processing Record 1 | Padang\n",
      "Processing Record 1 | Monchegorsk\n",
      "Processing Record 1 | Bambanglipuro\n",
      "Processing Record 1 | Almaznyy\n",
      "Processing Record 1 | Agen\n",
      "Processing Record 1 | Aurillac\n",
      "Processing Record 1 | Nantucket\n",
      "Processing Record 1 | Tongchuanshi\n",
      "City not found. Skipping...\n",
      "Processing Record 1 | Taebla\n",
      "Processing Record 1 | Tilichiki\n",
      "Processing Record 1 | High Level\n",
      "Processing Record 1 | Whitehorse\n",
      "Processing Record 1 | Kloulklubed\n",
      "Processing Record 1 | Toowoomba\n",
      "Processing Record 1 | Santa Cruz Cabrália\n",
      "Processing Record 1 | Sosnogorsk\n",
      "Processing Record 1 | Akçakoca\n",
      "Processing Record 1 | Abu Samrah\n",
      "Processing Record 1 | Guozhen\n",
      "City not found. Skipping...\n",
      "Processing Record 1 | Kundiawa\n",
      "Processing Record 1 | Champerico\n",
      "Processing Record 1 | Pangody\n",
      "Processing Record 1 | Freeport\n",
      "Processing Record 1 | Mendi\n",
      "Processing Record 1 | Fairbanks\n",
      "Processing Record 1 | Vostok\n",
      "Processing Record 1 | Shihezi\n",
      "Processing Record 1 | Dovolnoye\n",
      "Processing Record 1 | Noyabrsk\n",
      "Processing Record 1 | Mvuma\n",
      "City not found. Skipping...\n",
      "Processing Record 1 | Varna\n",
      "Processing Record 1 | Nagyrábé\n",
      "Processing Record 1 | Ossora\n",
      "Processing Record 1 | Nemuro\n",
      "Processing Record 1 | Acapulco de Juárez\n",
      "City not found. Skipping...\n",
      "Processing Record 1 | Campoverde\n",
      "Processing Record 1 | New Milford\n",
      "Processing Record 1 | Warrnambool\n",
      "Processing Record 1 | Mogadishu\n",
      "Processing Record 1 | Byron Bay\n",
      "Processing Record 1 | Mbour\n",
      "Processing Record 1 | Tonekābon\n",
      "Processing Record 1 | Lengshuitan\n",
      "Processing Record 1 | Bosaso\n",
      "Processing Record 1 | Agadez\n",
      "Processing Record 1 | Muncar\n",
      "Processing Record 1 | Rosetta\n",
      "Processing Record 1 | Isoka\n",
      "Processing Record 1 | Humaitá\n",
      "Processing Record 1 | Bathsheba\n",
      "Processing Record 1 | Hamilton\n",
      "Processing Record 1 | North Bend\n",
      "Processing Record 1 | Almeirim\n",
      "Processing Record 1 | Barranco\n",
      "Processing Record 1 | Lufilufi\n",
      "Processing Record 1 | Cartagena\n",
      "Processing Record 1 | Guaporé\n",
      "Processing Record 1 | Prince Rupert\n",
      "Processing Record 1 | Kodinsk\n",
      "Processing Record 1 | ‘Āhuimanu\n",
      "City not found. Skipping...\n",
      "Processing Record 1 | Yankton\n",
      "Processing Record 1 | Hīt\n",
      "Processing Record 1 | Zhigansk\n",
      "-------------------------------\n",
      "Data Retrieval Complete\n",
      "-------------------------------\n"
     ]
    }
   ],
   "source": [
    "\n",
    "city_name = []\n",
    "country = []\n",
    "date = []\n",
    "latitude = []\n",
    "longitude = []\n",
    "max_temperature = []\n",
    "humidity = []\n",
    "cloudiness = []\n",
    "wind_speed = []\n",
    "\n",
    "\n",
    "processing_record = 1\n",
    "\n",
    "\n",
    "print(f\"Beginning Data Retrieval\")\n",
    "print(f\"-------------------------------\")\n",
    "\n",
    "\n",
    "for city in cities:\n",
    "\n",
    "\n",
    "    try:\n",
    "        response = requests.get(query_url + city).json()\n",
    "        city_name.append(response[\"name\"])\n",
    "        country.append(response[\"sys\"][\"country\"])\n",
    "        date.append(response[\"dt\"])\n",
    "        latitude.append(response[\"coord\"][\"lat\"])\n",
    "        longitude.append(response[\"coord\"][\"lon\"])\n",
    "        max_temperature.append(response[\"main\"][\"temp_max\"])\n",
    "        humidity.append(response[\"main\"][\"humidity\"])\n",
    "        cloudiness.append(response[\"clouds\"][\"all\"])\n",
    "        wind_speed.append(response[\"wind\"][\"speed\"])\n",
    "        city_record = response[\"name\"]\n",
    "        print(f\"Processing Record {processing_record} | {city_record}\")\n",
    "        \n",
    "      \n",
    "        \n",
    "    except:\n",
    "        print(\"City not found. Skipping...\") \n",
    "    continue\n",
    "\n",
    "\n",
    "print(f\"-------------------------------\")\n",
    "print(f\"Data Retrieval Complete\")\n",
    "print(f\"-------------------------------\")"
   ]
  },
  {
   "cell_type": "markdown",
   "metadata": {},
   "source": [
    "### Convert Raw Data to DataFrame\n",
    "* Export the city data into a .csv.\n",
    "* Display the DataFrame"
   ]
  },
  {
   "cell_type": "code",
   "execution_count": 8,
   "metadata": {},
   "outputs": [
    {
     "data": {
      "text/plain": [
       "City               530\n",
       "Country            530\n",
       "Date               530\n",
       "Latitude           530\n",
       "Longitude          530\n",
       "Max Temperature    530\n",
       "Humidity           530\n",
       "Cloudiness         530\n",
       "Wind Speed         530\n",
       "dtype: int64"
      ]
     },
     "execution_count": 8,
     "metadata": {},
     "output_type": "execute_result"
    }
   ],
   "source": [
    "#Export the city data into a .csv.\n",
    "\n",
    "weather_dict = {\n",
    "    \"City\": city_name,\n",
    "    \"Country\": country,\n",
    "    \"Date\": date,\n",
    "    \"Latitude\": latitude,\n",
    "    \"Longitude\": longitude,\n",
    "    \"Max Temperature\": max_temperature,\n",
    "    \"Humidity\": humidity,\n",
    "    \"Cloudiness\": cloudiness,\n",
    "    \"Wind Speed\": wind_speed\n",
    "}\n",
    "\n",
    "weather_data = pd.DataFrame(weather_dict)\n",
    "weather_data.count()\n"
   ]
  },
  {
   "cell_type": "code",
   "execution_count": 9,
   "metadata": {},
   "outputs": [
    {
     "data": {
      "text/html": [
       "<div>\n",
       "<style scoped>\n",
       "    .dataframe tbody tr th:only-of-type {\n",
       "        vertical-align: middle;\n",
       "    }\n",
       "\n",
       "    .dataframe tbody tr th {\n",
       "        vertical-align: top;\n",
       "    }\n",
       "\n",
       "    .dataframe thead th {\n",
       "        text-align: right;\n",
       "    }\n",
       "</style>\n",
       "<table border=\"1\" class=\"dataframe\">\n",
       "  <thead>\n",
       "    <tr style=\"text-align: right;\">\n",
       "      <th></th>\n",
       "      <th>City</th>\n",
       "      <th>Country</th>\n",
       "      <th>Date</th>\n",
       "      <th>Latitude</th>\n",
       "      <th>Longitude</th>\n",
       "      <th>Max Temperature</th>\n",
       "      <th>Humidity</th>\n",
       "      <th>Cloudiness</th>\n",
       "      <th>Wind Speed</th>\n",
       "    </tr>\n",
       "  </thead>\n",
       "  <tbody>\n",
       "    <tr>\n",
       "      <th>0</th>\n",
       "      <td>Saint George</td>\n",
       "      <td>US</td>\n",
       "      <td>1603873297</td>\n",
       "      <td>37.10</td>\n",
       "      <td>-113.58</td>\n",
       "      <td>48.20</td>\n",
       "      <td>23</td>\n",
       "      <td>1</td>\n",
       "      <td>5.82</td>\n",
       "    </tr>\n",
       "    <tr>\n",
       "      <th>1</th>\n",
       "      <td>Ampanihy</td>\n",
       "      <td>MG</td>\n",
       "      <td>1603873297</td>\n",
       "      <td>-24.70</td>\n",
       "      <td>44.75</td>\n",
       "      <td>87.76</td>\n",
       "      <td>41</td>\n",
       "      <td>0</td>\n",
       "      <td>13.44</td>\n",
       "    </tr>\n",
       "    <tr>\n",
       "      <th>2</th>\n",
       "      <td>Kaitangata</td>\n",
       "      <td>NZ</td>\n",
       "      <td>1603873298</td>\n",
       "      <td>-46.28</td>\n",
       "      <td>169.85</td>\n",
       "      <td>52.00</td>\n",
       "      <td>83</td>\n",
       "      <td>91</td>\n",
       "      <td>10.00</td>\n",
       "    </tr>\n",
       "    <tr>\n",
       "      <th>3</th>\n",
       "      <td>Nanortalik</td>\n",
       "      <td>GL</td>\n",
       "      <td>1603873298</td>\n",
       "      <td>60.14</td>\n",
       "      <td>-45.24</td>\n",
       "      <td>30.49</td>\n",
       "      <td>92</td>\n",
       "      <td>100</td>\n",
       "      <td>1.21</td>\n",
       "    </tr>\n",
       "    <tr>\n",
       "      <th>4</th>\n",
       "      <td>Jamestown</td>\n",
       "      <td>US</td>\n",
       "      <td>1603873298</td>\n",
       "      <td>42.10</td>\n",
       "      <td>-79.24</td>\n",
       "      <td>41.00</td>\n",
       "      <td>100</td>\n",
       "      <td>90</td>\n",
       "      <td>4.43</td>\n",
       "    </tr>\n",
       "  </tbody>\n",
       "</table>\n",
       "</div>"
      ],
      "text/plain": [
       "           City Country        Date  Latitude  Longitude  Max Temperature  \\\n",
       "0  Saint George      US  1603873297     37.10    -113.58            48.20   \n",
       "1      Ampanihy      MG  1603873297    -24.70      44.75            87.76   \n",
       "2    Kaitangata      NZ  1603873298    -46.28     169.85            52.00   \n",
       "3    Nanortalik      GL  1603873298     60.14     -45.24            30.49   \n",
       "4     Jamestown      US  1603873298     42.10     -79.24            41.00   \n",
       "\n",
       "   Humidity  Cloudiness  Wind Speed  \n",
       "0        23           1        5.82  \n",
       "1        41           0       13.44  \n",
       "2        83          91       10.00  \n",
       "3        92         100        1.21  \n",
       "4       100          90        4.43  "
      ]
     },
     "execution_count": 9,
     "metadata": {},
     "output_type": "execute_result"
    }
   ],
   "source": [
    "\n",
    "# Display DataFrame\n",
    "weather_data.head()"
   ]
  },
  {
   "cell_type": "code",
   "execution_count": 10,
   "metadata": {},
   "outputs": [],
   "source": [
    "\n",
    "# output data to csv\n",
    "weather_data.to_csv(\"./weather_data_output.csv\")\n",
    "weather_data.to_csv(\"./weather_data_output.xls\")"
   ]
  },
  {
   "cell_type": "markdown",
   "metadata": {},
   "source": [
    "### Plotting the Data\n",
    "* Use proper labeling of the plots using plot titles (including date of analysis) and axes labels.\n",
    "* Save the plotted figures as .pngs."
   ]
  },
  {
   "cell_type": "markdown",
   "metadata": {},
   "source": [
    "#### Latitude vs. Temperature Plot"
   ]
  },
  {
   "cell_type": "code",
   "execution_count": 11,
   "metadata": {
    "scrolled": true
   },
   "outputs": [
    {
     "data": {
      "image/png": "[encoded data removed]",
      "text/plain": [
       "<Figure size 432x288 with 1 Axes>"
      ]
     },
     "metadata": {
      "needs_background": "light"
     },
     "output_type": "display_data"
    }
   ],
   "source": [
    "# Build Scatter Plot for Each Data Type\n",
    "plt.scatter(weather_data[\"Latitude\"], weather_data[\"Max Temperature\"], facecolors=\"green\", marker=\"o\", edgecolor=\"black\")\n",
    "\n",
    "# Incorporate Other Graph Properties\n",
    "plt.title(\"City Latitude vs. Max Temperature (02/01/2019)\")\n",
    "plt.ylabel(\"Max Temperature (°F)\")\n",
    "plt.xlabel(\"Latitude\")\n",
    "plt.grid(True)\n",
    "\n",
    "# Save Figure\n",
    "plt.savefig(\"./City_Latitude_vs_Max_Temperature.png\")\n",
    "\n",
    "# Show Plot\n",
    "plt.show()"
   ]
  },
  {
   "cell_type": "markdown",
   "metadata": {},
   "source": [
    "#### Latitude vs. Humidity Plot"
   ]
  },
  {
   "cell_type": "code",
   "execution_count": 12,
   "metadata": {},
   "outputs": [
    {
     "data": {
      "image/png": "[encoded data removed]",
      "text/plain": [
       "<Figure size 432x288 with 1 Axes>"
      ]
     },
     "metadata": {
      "needs_background": "light"
     },
     "output_type": "display_data"
    }
   ],
   "source": [
    "# Build Scatter Plot for Each Data Type\n",
    "plt.scatter(weather_data[\"Latitude\"], weather_data[\"Humidity\"], facecolors=\"blue\", marker=\"o\", edgecolor=\"black\")\n",
    "# Incorporate Other Graph Properties\n",
    "plt.title(\"City Latitude vs. Humidity (02/01/2019)\")\n",
    "plt.ylabel(\"Humidity (%)\")\n",
    "plt.xlabel(\"Latitude\")\n",
    "plt.grid(True)\n",
    "\n",
    "# Save Figure\n",
    "plt.savefig(\"./City_Latitude_vs_Humidity.png\")\n",
    "\n",
    "# Show Plot\n",
    "plt.show()"
   ]
  },
  {
   "cell_type": "markdown",
   "metadata": {},
   "source": [
    "#### Latitude vs. Cloudiness Plot"
   ]
  },
  {
   "cell_type": "code",
   "execution_count": 13,
   "metadata": {},
   "outputs": [
    {
     "data": {
      "image/png": "[encoded data removed]",
      "text/plain": [
       "<Figure size 432x288 with 1 Axes>"
      ]
     },
     "metadata": {
      "needs_background": "light"
     },
     "output_type": "display_data"
    }
   ],
   "source": [
    "# Build Scatter Plot for Each Data Type\n",
    "plt.scatter(weather_data[\"Latitude\"], weather_data[\"Cloudiness\"], facecolors=\"red\", marker=\"o\", edgecolor=\"black\")\n",
    "\n",
    "# Incorporate Other Graph Properties\n",
    "plt.title(\"City Latitude vs. Cloudiness (02/01/2019)\")\n",
    "plt.ylabel(\"Cloudiness (%)\")\n",
    "plt.xlabel(\"Latitude\")\n",
    "plt.grid(True)\n",
    "\n",
    "# Save Figure\n",
    "plt.savefig(\"./City_Latitude_vs_Cloudiness.png\")\n",
    "\n",
    "# Show Plot\n",
    "plt.show()"
   ]
  },
  {
   "cell_type": "markdown",
   "metadata": {},
   "source": [
    "#### Latitude vs. Wind Speed Plot"
   ]
  },
  {
   "cell_type": "code",
   "execution_count": 14,
   "metadata": {},
   "outputs": [
    {
     "data": {
      "image/png": "[encoded data removed]",
      "text/plain": [
       "<Figure size 432x288 with 1 Axes>"
      ]
     },
     "metadata": {
      "needs_background": "light"
     },
     "output_type": "display_data"
    }
   ],
   "source": [
    "# Build Scatter Plot for Each Data Type\n",
    "plt.scatter(weather_data[\"Latitude\"], weather_data[\"Wind Speed\"], facecolors=\"yellow\", marker=\"o\", edgecolor=\"black\")\n",
    "\n",
    "# Incorporate Other Graph Properties\n",
    "plt.title(\"City Latitude vs. Wind Speed (02/01/2019)\")\n",
    "plt.ylabel(\"Wind Speed (mph)\")\n",
    "plt.xlabel(\"Latitude\")\n",
    "plt.grid(True)\n",
    "\n",
    "# Save Figure\n",
    "plt.savefig(\"./City_Latitude_vs_Wind_Speed.png\")\n",
    "\n",
    "# Show Plot\n",
    "plt.show()"
   ]
  },
  {
   "cell_type": "markdown",
   "metadata": {},
   "source": [
    "## Linear Regression"
   ]
  },
  {
   "cell_type": "code",
   "execution_count": 15,
   "metadata": {},
   "outputs": [
    {
     "data": {
      "text/plain": [
       "<bound method NDFrame.head of              City Country        Date  Latitude  Longitude  Max Temperature  \\\n",
       "0    Saint George      US  1603873297     37.10    -113.58            48.20   \n",
       "1        Ampanihy      MG  1603873297    -24.70      44.75            87.76   \n",
       "2      Kaitangata      NZ  1603873298    -46.28     169.85            52.00   \n",
       "3      Nanortalik      GL  1603873298     60.14     -45.24            30.49   \n",
       "4       Jamestown      US  1603873298     42.10     -79.24            41.00   \n",
       "..            ...     ...         ...       ...        ...              ...   \n",
       "525       Kodinsk      RU  1603873422     58.69      99.18            34.99   \n",
       "526     ‘Āhuimanu      US  1603873423     21.44    -157.84            78.80   \n",
       "527       Yankton      US  1603873423     42.87     -97.40            32.00   \n",
       "528           Hīt      IQ  1603873423     33.64      42.83            86.52   \n",
       "529      Zhigansk      RU  1603873423     66.77     123.37            -7.28   \n",
       "\n",
       "     Humidity  Cloudiness  Wind Speed  \n",
       "0          23           1        5.82  \n",
       "1          41           0       13.44  \n",
       "2          83          91       10.00  \n",
       "3          92         100        1.21  \n",
       "4         100          90        4.43  \n",
       "..        ...         ...         ...  \n",
       "525        87         100        8.97  \n",
       "526        78          20        5.08  \n",
       "527        68           1        9.66  \n",
       "528        13           0        7.18  \n",
       "529        91           5        3.67  \n",
       "\n",
       "[530 rows x 9 columns]>"
      ]
     },
     "execution_count": 15,
     "metadata": {},
     "output_type": "execute_result"
    }
   ],
   "source": [
    "weather_data.head"
   ]
  },
  {
   "cell_type": "code",
   "execution_count": 16,
   "metadata": {},
   "outputs": [],
   "source": [
    "# OPTIONAL: Create a function to create Linear Regression plots\n",
    "import scipy.stats as st\n"
   ]
  },
  {
   "cell_type": "code",
   "execution_count": 17,
   "metadata": {},
   "outputs": [],
   "source": [
    "# Create Northern and Southern Hemisphere DataFrames\n",
    "north_hemisphere = weather_data.loc[weather_data[\"Latitude\"] >= 0]\n",
    "south_hemisphere = weather_data.loc[weather_data[\"Latitude\"] < 0]"
   ]
  },
  {
   "cell_type": "code",
   "execution_count": 18,
   "metadata": {},
   "outputs": [],
   "source": [
    "\n",
    "# Define function for creating linear agression and scatter plot\n",
    "def linear_regression(x,y):\n",
    "    print(f\"The r-squared is : {round(st.pearsonr(x, y)[0],2)}\")\n",
    "    (slope, intercept, rvalue, pvalue, stderr) = linregress(x, y)\n",
    "    regress_values = x * slope + intercept\n",
    "    line_eq = \"y = \" + str(round(slope,2)) + \"x + \" + str(round(intercept,2))\n",
    "    plt.scatter(x, y)\n",
    "    plt.plot(x,regress_values,\"r-\")\n",
    "    return line_eq\n",
    "\n",
    "# Define a fuction for annotating\n",
    "def annotate(line_eq, a, b):\n",
    "    plt.annotate(line_eq,(a,b),fontsize=15,color=\"red\")"
   ]
  },
  {
   "cell_type": "markdown",
   "metadata": {},
   "source": [
    "####  Northern Hemisphere - Max Temp vs. Latitude Linear Regression"
   ]
  },
  {
   "cell_type": "code",
   "execution_count": 19,
   "metadata": {},
   "outputs": [
    {
     "data": {
      "text/plain": [
       "City                object\n",
       "Country             object\n",
       "Date                 int64\n",
       "Latitude           float64\n",
       "Longitude          float64\n",
       "Max Temperature    float64\n",
       "Humidity             int64\n",
       "Cloudiness           int64\n",
       "Wind Speed         float64\n",
       "dtype: object"
      ]
     },
     "execution_count": 19,
     "metadata": {},
     "output_type": "execute_result"
    }
   ],
   "source": [
    "weather_data.dtypes"
   ]
  },
  {
   "cell_type": "code",
   "execution_count": 20,
   "metadata": {},
   "outputs": [
    {
     "name": "stdout",
     "output_type": "stream",
     "text": [
      "The r-squared is : -0.88\n"
     ]
    },
    {
     "data": {
      "image/png": "[encoded data removed]",
      "text/plain": [
       "<Figure size 432x288 with 1 Axes>"
      ]
     },
     "metadata": {
      "needs_background": "light"
     },
     "output_type": "display_data"
    }
   ],
   "source": [
    "\n",
    "equation = linear_regression(north_hemisphere[\"Latitude\"], north_hemisphere[\"Max Temperature\"])\n",
    "annotate(equation, 0, 0)\n",
    "plt.title(\"Northern Hemisphere - Max Temp vs. Latitude Linear Regression\")\n",
    "plt.xlabel(\"Latitude\")\n",
    "plt.ylabel(\"Max Temp (F)\")\n",
    "\n",
    "# Save the figure\n",
    "plt.savefig(\"./Final_PNG/Northern Hemisphere - Max Temp vs. Latitude Linear Regression.png\")"
   ]
  },
  {
   "cell_type": "markdown",
   "metadata": {},
   "source": [
    "####  Southern Hemisphere - Max Temp vs. Latitude Linear Regression"
   ]
  },
  {
   "cell_type": "code",
   "execution_count": 21,
   "metadata": {},
   "outputs": [
    {
     "ename": "ValueError",
     "evalue": "x and y must have the same length.",
     "output_type": "error",
     "traceback": [
      "\u001b[0;31m---------------------------------------------------------------------------\u001b[0m",
      "\u001b[0;31mValueError\u001b[0m                                Traceback (most recent call last)",
      "\u001b[0;32m<ipython-input-21-b9689608ff1d>\u001b[0m in \u001b[0;36m<module>\u001b[0;34m\u001b[0m\n\u001b[0;32m----> 1\u001b[0;31m \u001b[0mequation\u001b[0m \u001b[0;34m=\u001b[0m \u001b[0mlinear_regression\u001b[0m\u001b[0;34m(\u001b[0m\u001b[0msouth_hemisphere\u001b[0m\u001b[0;34m[\u001b[0m\u001b[0;34m\"Latitude\"\u001b[0m\u001b[0;34m]\u001b[0m\u001b[0;34m,\u001b[0m \u001b[0mnorth_hemisphere\u001b[0m\u001b[0;34m[\u001b[0m\u001b[0;34m\"Max Temperature\"\u001b[0m\u001b[0;34m]\u001b[0m\u001b[0;34m)\u001b[0m\u001b[0;34m\u001b[0m\u001b[0;34m\u001b[0m\u001b[0m\n\u001b[0m\u001b[1;32m      2\u001b[0m \u001b[0;34m\u001b[0m\u001b[0m\n\u001b[1;32m      3\u001b[0m \u001b[0mannotate\u001b[0m\u001b[0;34m(\u001b[0m\u001b[0mequation\u001b[0m\u001b[0;34m,\u001b[0m \u001b[0;34m-\u001b[0m\u001b[0;36m30\u001b[0m\u001b[0;34m,\u001b[0m \u001b[0;36m50\u001b[0m\u001b[0;34m)\u001b[0m\u001b[0;34m\u001b[0m\u001b[0;34m\u001b[0m\u001b[0m\n\u001b[1;32m      4\u001b[0m \u001b[0mplt\u001b[0m\u001b[0;34m.\u001b[0m\u001b[0mtitle\u001b[0m\u001b[0;34m(\u001b[0m\u001b[0;34m\"Southern Hemisphere - Max Temp vs. Latitude Linear Regression\"\u001b[0m\u001b[0;34m)\u001b[0m\u001b[0;34m\u001b[0m\u001b[0;34m\u001b[0m\u001b[0m\n\u001b[1;32m      5\u001b[0m \u001b[0mplt\u001b[0m\u001b[0;34m.\u001b[0m\u001b[0mxlabel\u001b[0m\u001b[0;34m(\u001b[0m\u001b[0;34m\"Latitude\"\u001b[0m\u001b[0;34m)\u001b[0m\u001b[0;34m\u001b[0m\u001b[0;34m\u001b[0m\u001b[0m\n",
      "\u001b[0;32m<ipython-input-18-768114d6bd5b>\u001b[0m in \u001b[0;36mlinear_regression\u001b[0;34m(x, y)\u001b[0m\n\u001b[1;32m      1\u001b[0m \u001b[0;31m# Define function for creating linear agression and scatter plot\u001b[0m\u001b[0;34m\u001b[0m\u001b[0;34m\u001b[0m\u001b[0;34m\u001b[0m\u001b[0m\n\u001b[1;32m      2\u001b[0m \u001b[0;32mdef\u001b[0m \u001b[0mlinear_regression\u001b[0m\u001b[0;34m(\u001b[0m\u001b[0mx\u001b[0m\u001b[0;34m,\u001b[0m\u001b[0my\u001b[0m\u001b[0;34m)\u001b[0m\u001b[0;34m:\u001b[0m\u001b[0;34m\u001b[0m\u001b[0;34m\u001b[0m\u001b[0m\n\u001b[0;32m----> 3\u001b[0;31m     \u001b[0mprint\u001b[0m\u001b[0;34m(\u001b[0m\u001b[0;34mf\"The r-squared is : {round(st.pearsonr(x, y)[0],2)}\"\u001b[0m\u001b[0;34m)\u001b[0m\u001b[0;34m\u001b[0m\u001b[0;34m\u001b[0m\u001b[0m\n\u001b[0m\u001b[1;32m      4\u001b[0m     \u001b[0;34m(\u001b[0m\u001b[0mslope\u001b[0m\u001b[0;34m,\u001b[0m \u001b[0mintercept\u001b[0m\u001b[0;34m,\u001b[0m \u001b[0mrvalue\u001b[0m\u001b[0;34m,\u001b[0m \u001b[0mpvalue\u001b[0m\u001b[0;34m,\u001b[0m \u001b[0mstderr\u001b[0m\u001b[0;34m)\u001b[0m \u001b[0;34m=\u001b[0m \u001b[0mlinregress\u001b[0m\u001b[0;34m(\u001b[0m\u001b[0mx\u001b[0m\u001b[0;34m,\u001b[0m \u001b[0my\u001b[0m\u001b[0;34m)\u001b[0m\u001b[0;34m\u001b[0m\u001b[0;34m\u001b[0m\u001b[0m\n\u001b[1;32m      5\u001b[0m     \u001b[0mregress_values\u001b[0m \u001b[0;34m=\u001b[0m \u001b[0mx\u001b[0m \u001b[0;34m*\u001b[0m \u001b[0mslope\u001b[0m \u001b[0;34m+\u001b[0m \u001b[0mintercept\u001b[0m\u001b[0;34m\u001b[0m\u001b[0;34m\u001b[0m\u001b[0m\n",
      "\u001b[0;32m~/opt/anaconda3/lib/python3.7/site-packages/scipy/stats/stats.py\u001b[0m in \u001b[0;36mpearsonr\u001b[0;34m(x, y)\u001b[0m\n\u001b[1;32m   3496\u001b[0m     \u001b[0mn\u001b[0m \u001b[0;34m=\u001b[0m \u001b[0mlen\u001b[0m\u001b[0;34m(\u001b[0m\u001b[0mx\u001b[0m\u001b[0;34m)\u001b[0m\u001b[0;34m\u001b[0m\u001b[0;34m\u001b[0m\u001b[0m\n\u001b[1;32m   3497\u001b[0m     \u001b[0;32mif\u001b[0m \u001b[0mn\u001b[0m \u001b[0;34m!=\u001b[0m \u001b[0mlen\u001b[0m\u001b[0;34m(\u001b[0m\u001b[0my\u001b[0m\u001b[0;34m)\u001b[0m\u001b[0;34m:\u001b[0m\u001b[0;34m\u001b[0m\u001b[0;34m\u001b[0m\u001b[0m\n\u001b[0;32m-> 3498\u001b[0;31m         \u001b[0;32mraise\u001b[0m \u001b[0mValueError\u001b[0m\u001b[0;34m(\u001b[0m\u001b[0;34m'x and y must have the same length.'\u001b[0m\u001b[0;34m)\u001b[0m\u001b[0;34m\u001b[0m\u001b[0;34m\u001b[0m\u001b[0m\n\u001b[0m\u001b[1;32m   3499\u001b[0m \u001b[0;34m\u001b[0m\u001b[0m\n\u001b[1;32m   3500\u001b[0m     \u001b[0;32mif\u001b[0m \u001b[0mn\u001b[0m \u001b[0;34m<\u001b[0m \u001b[0;36m2\u001b[0m\u001b[0;34m:\u001b[0m\u001b[0;34m\u001b[0m\u001b[0;34m\u001b[0m\u001b[0m\n",
      "\u001b[0;31mValueError\u001b[0m: x and y must have the same length."
     ]
    }
   ],
   "source": [
    "equation = linear_regression(south_hemisphere[\"Latitude\"], north_hemisphere[\"Max Temperature\"])\n",
    "\n",
    "annotate(equation, -30, 50)\n",
    "plt.title(\"Southern Hemisphere - Max Temp vs. Latitude Linear Regression\")\n",
    "plt.xlabel(\"Latitude\")\n",
    "plt.ylabel(\"Max Temp (F)\")\n",
    "\n",
    "# Save the figure\n",
    "plt.savefig(\"./Final_PNG/Southern Hemisphere - Max Temp vs. Latitude Linear Regression.png\")"
   ]
  },
  {
   "cell_type": "markdown",
   "metadata": {},
   "source": [
    "####  Northern Hemisphere - Humidity (%) vs. Latitude Linear Regression"
   ]
  },
  {
   "cell_type": "code",
   "execution_count": 25,
   "metadata": {},
   "outputs": [
    {
     "name": "stdout",
     "output_type": "stream",
     "text": [
      "The r-squared is : 0.35\n"
     ]
    },
    {
     "data": {
      "image/png": "[encoded data removed]",
      "text/plain": [
       "<Figure size 432x288 with 1 Axes>"
      ]
     },
     "metadata": {
      "needs_background": "light"
     },
     "output_type": "display_data"
    }
   ],
   "source": [
    "\n",
    "equation = linear_regression(north_hemisphere[\"Latitude\"], north_hemisphere[\"Humidity\"])\n",
    "annotate(equation, 40, 15)\n",
    "plt.title(\"Northern Hemisphere - Humidity (%) vs. Latitude Linear Regression\")\n",
    "plt.xlabel(\"Latitude\")\n",
    "plt.ylabel(\"Humidity (%)\")\n",
    "\n",
    "# Save the figure\n",
    "plt.savefig(\"./Final_PNG/Northern Hemisphere - Humidity (%) vs. Latitude Linear Regression.png\")"
   ]
  },
  {
   "cell_type": "markdown",
   "metadata": {},
   "source": [
    "####  Southern Hemisphere - Humidity (%) vs. Latitude Linear Regression"
   ]
  },
  {
   "cell_type": "code",
   "execution_count": 28,
   "metadata": {},
   "outputs": [
    {
     "name": "stdout",
     "output_type": "stream",
     "text": [
      "The r-squared is : 0.07\n"
     ]
    },
    {
     "data": {
      "image/png": "[encoded data removed]",
      "text/plain": [
       "<Figure size 432x288 with 1 Axes>"
      ]
     },
     "metadata": {
      "needs_background": "light"
     },
     "output_type": "display_data"
    }
   ],
   "source": [
    "# Call an function #1\n",
    "equation = linear_regression(south_hemisphere[\"Latitude\"], south_hemisphere[\"Humidity\"])\n",
    "annotate(equation, -40, 50)\n",
    "plt.title(\"Southern Hemisphere - Humidity (%) vs. Latitude Linear Regression\")\n",
    "plt.xlabel(\"Latitude\")\n",
    "plt.ylabel(\"Humidity (%)\")\n",
    "\n",
    "# Save the figure\n",
    "plt.savefig(\"./Final_PNG/Southern Hemisphere - Humidity (%) vs. Latitude Linear Regression.png\")"
   ]
  },
  {
   "cell_type": "markdown",
   "metadata": {},
   "source": [
    "####  Northern Hemisphere - Cloudiness (%) vs. Latitude Linear Regression"
   ]
  },
  {
   "cell_type": "code",
   "execution_count": 29,
   "metadata": {},
   "outputs": [
    {
     "name": "stdout",
     "output_type": "stream",
     "text": [
      "The r-squared is : 0.22\n"
     ]
    },
    {
     "data": {
      "image/png": "[encoded data removed]",
      "text/plain": [
       "<Figure size 432x288 with 1 Axes>"
      ]
     },
     "metadata": {
      "needs_background": "light"
     },
     "output_type": "display_data"
    }
   ],
   "source": [
    "equation = linear_regression(north_hemisphere[\"Latitude\"], north_hemisphere[\"Cloudiness\"])\n",
    "annotate(equation, 30, 40)\n",
    "plt.title(\"Northern Hemisphere - Cloudiness (%) vs. Latitude Linear Regression\")\n",
    "plt.xlabel(\"Latitude\")\n",
    "plt.ylabel(\"Cloudiness (%)\")\n",
    "\n",
    "# Save the figure\n",
    "plt.savefig(\"./Final_PNG/Northern Hemisphere - Cloudiness (%) vs. Latitude Linear Regression.png\")"
   ]
  },
  {
   "cell_type": "markdown",
   "metadata": {},
   "source": [
    "####  Southern Hemisphere - Cloudiness (%) vs. Latitude Linear Regression"
   ]
  },
  {
   "cell_type": "code",
   "execution_count": 30,
   "metadata": {},
   "outputs": [
    {
     "name": "stdout",
     "output_type": "stream",
     "text": [
      "The r-squared is : 0.22\n"
     ]
    },
    {
     "data": {
      "image/png": "[encoded data removed]",
      "text/plain": [
       "<Figure size 432x288 with 1 Axes>"
      ]
     },
     "metadata": {
      "needs_background": "light"
     },
     "output_type": "display_data"
    }
   ],
   "source": [
    "equation = linear_regression(south_hemisphere[\"Latitude\"], south_hemisphere[\"Cloudiness\"])\n",
    "annotate(equation, 30, 40)\n",
    "plt.title(\"Northern Hemisphere - Cloudiness (%) vs. Latitude Linear Regression\")\n",
    "plt.xlabel(\"Latitude\")\n",
    "plt.ylabel(\"Cloudiness (%)\")\n",
    "\n",
    "# Save the figure\n",
    "plt.savefig(\"./Final_PNG/Southern Hemisphere - Cloudiness (%) vs. Latitude Linear Regression.png\")"
   ]
  },
  {
   "cell_type": "markdown",
   "metadata": {},
   "source": [
    "####  Northern Hemisphere - Wind Speed (mph) vs. Latitude Linear Regression"
   ]
  },
  {
   "cell_type": "code",
   "execution_count": 32,
   "metadata": {},
   "outputs": [
    {
     "name": "stdout",
     "output_type": "stream",
     "text": [
      "The r-squared is : 0.15\n"
     ]
    },
    {
     "data": {
      "image/png": "[encoded data removed]",
      "text/plain": [
       "<Figure size 432x288 with 1 Axes>"
      ]
     },
     "metadata": {
      "needs_background": "light"
     },
     "output_type": "display_data"
    }
   ],
   "source": [
    "equation = linear_regression(north_hemisphere[\"Latitude\"], north_hemisphere[\"Wind Speed\"])\n",
    "annotate(equation, 40, 15)\n",
    "plt.title(\"Northern Hemisphere - Wind Speed (%) vs. Latitude Linear Regression\")\n",
    "plt.xlabel(\"Latitude\")\n",
    "plt.ylabel(\"Humidity (%)\")\n",
    "\n",
    "# Save the figure\n",
    "plt.savefig(\"./Final_PNG/Northern Hemisphere - Wind Speed (mph) vs. Latitude Linear Regression.png\")"
   ]
  },
  {
   "cell_type": "markdown",
   "metadata": {},
   "source": [
    "####  Southern Hemisphere - Wind Speed (mph) vs. Latitude Linear Regression"
   ]
  },
  {
   "cell_type": "code",
   "execution_count": 33,
   "metadata": {},
   "outputs": [
    {
     "name": "stdout",
     "output_type": "stream",
     "text": [
      "The r-squared is : -0.27\n"
     ]
    },
    {
     "data": {
      "image/png": "[encoded data removed]",
      "text/plain": [
       "<Figure size 432x288 with 1 Axes>"
      ]
     },
     "metadata": {
      "needs_background": "light"
     },
     "output_type": "display_data"
    }
   ],
   "source": [
    "equation = linear_regression(south_hemisphere[\"Latitude\"], south_hemisphere[\"Wind Speed\"])\n",
    "annotate(equation, 40, 15)\n",
    "plt.title(\"Southern Hemisphere - Wind Speed (%) vs. Latitude Linear Regression\")\n",
    "plt.xlabel(\"Latitude\")\n",
    "plt.ylabel(\"Humidity (%)\")\n",
    "\n",
    "# Save the figure\n",
    "plt.savefig(\"./Final_PNG/Northern Hemisphere - Wind Speed (mph) vs. Latitude Linear Regression.png\")"
   ]
  },
  {
   "cell_type": "code",
   "execution_count": null,
   "metadata": {},
   "outputs": [],
   "source": []
  }
 ],
 "metadata": {
  "anaconda-cloud": {},
  "kernel_info": {
   "name": "python3"
  },
  "kernelspec": {
   "display_name": "Python 3",
   "language": "python",
   "name": "python3"
  },
  "language_info": {
   "codemirror_mode": {
    "name": "ipython",
    "version": 3
   },
   "file_extension": ".py",
   "mimetype": "text/x-python",
   "name": "python",
   "nbconvert_exporter": "python",
   "pygments_lexer": "ipython3",
   "version": "3.7.6"
  },
  "latex_envs": {
   "LaTeX_envs_menu_present": true,
   "autoclose": false,
   "autocomplete": true,
   "bibliofile": "biblio.bib",
   "cite_by": "apalike",
   "current_citInitial": 1,
   "eqLabelWithNumbers": true,
   "eqNumInitial": 1,
   "hotkeys": {
    "equation": "Ctrl-E",
    "itemize": "Ctrl-I"
   },
   "labels_anchors": false,
   "latex_user_defs": false,
   "report_style_numbering": false,
   "user_envs_cfg": false
  },
  "nteract": {
   "version": "0.12.3"
  }
 },
 "nbformat": 4,
 "nbformat_minor": 2
}
